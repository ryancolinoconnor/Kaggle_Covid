{
 "cells": [
  {
   "cell_type": "code",
   "execution_count": null,
   "metadata": {},
   "outputs": [],
   "source": [
    "import sys\n",
    "from utils import pipeline\n",
    "sys.path.append('./utils/')\n",
    "\n",
    "\n",
    "\n",
    "pl = pipeline.Pipeline()\n",
    "pl.__BASE_PATH__ = './CORD-19-research-challenge/'"
   ]
  },
  {
   "cell_type": "code",
   "execution_count": null,
   "metadata": {},
   "outputs": [],
   "source": [
    "#pl = pipeline.Pipeline()\n",
    "print(pl.get_folders())\n",
    "data = pl.get_files_for_folder(pl.get_folders()[-1],limit=5)\n",
    "data"
   ]
  },
  {
   "cell_type": "code",
   "execution_count": null,
   "metadata": {},
   "outputs": [],
   "source": []
  }
 ],
 "metadata": {
  "kernelspec": {
   "display_name": "Python 3",
   "language": "python",
   "name": "python3"
  }
 },
 "nbformat": 4,
 "nbformat_minor": 2
}
